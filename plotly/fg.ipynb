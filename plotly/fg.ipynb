{
 "cells": [
  {
   "cell_type": "code",
   "execution_count": 1,
   "metadata": {},
   "outputs": [],
   "source": [
    "import pandas as pd\n",
    "import plotly.offline as pyo\n",
    "import plotly.graph_objs as go"
   ]
  },
  {
   "cell_type": "code",
   "execution_count": 2,
   "metadata": {},
   "outputs": [
    {
     "name": "stdout",
     "output_type": "stream",
     "text": [
      "       country  year         pop continent  lifeExp   gdpPercap\n",
      "0  Afghanistan  1952   8425333.0      Asia   28.801  779.445314\n",
      "1  Afghanistan  1957   9240934.0      Asia   30.332  820.853030\n",
      "2  Afghanistan  1962  10267083.0      Asia   31.997  853.100710\n"
     ]
    }
   ],
   "source": [
    "df = pd.read_csv('../data/gapminderDataFiveYear.csv')\n",
    "print(df.head(3))"
   ]
  },
  {
   "cell_type": "code",
   "execution_count": 18,
   "metadata": {},
   "outputs": [
    {
     "data": {
      "text/plain": [
       "[{'label': '1952', 'value': 1952},\n",
       " {'label': '1957', 'value': 1957},\n",
       " {'label': '1962', 'value': 1962},\n",
       " {'label': '1967', 'value': 1967},\n",
       " {'label': '1972', 'value': 1972},\n",
       " {'label': '1977', 'value': 1977},\n",
       " {'label': '1982', 'value': 1982},\n",
       " {'label': '1987', 'value': 1987},\n",
       " {'label': '1992', 'value': 1992},\n",
       " {'label': '1997', 'value': 1997},\n",
       " {'label': '2002', 'value': 2002},\n",
       " {'label': '2007', 'value': 2007}]"
      ]
     },
     "execution_count": 18,
     "metadata": {},
     "output_type": "execute_result"
    }
   ],
   "source": [
    "year_options = [{'label':str(year), 'value':year} for year in df['year'].unique()]\n",
    "year_options"
   ]
  },
  {
   "cell_type": "code",
   "execution_count": 19,
   "metadata": {},
   "outputs": [
    {
     "data": {
      "text/plain": [
       "[{'label': 'Asia', 'value': 'Asia'},\n",
       " {'label': 'Europe', 'value': 'Europe'},\n",
       " {'label': 'Africa', 'value': 'Africa'},\n",
       " {'label': 'Americas', 'value': 'Americas'},\n",
       " {'label': 'Oceania', 'value': 'Oceania'}]"
      ]
     },
     "execution_count": 19,
     "metadata": {},
     "output_type": "execute_result"
    }
   ],
   "source": [
    "continent_options = [{'label':continent, 'value':continent} for continent in df['continent'].unique()]\n",
    "continent_options"
   ]
  },
  {
   "cell_type": "code",
   "execution_count": 14,
   "metadata": {},
   "outputs": [],
   "source": [
    "def update_figure(selected_year):\n",
    "    filtered_df = df[df['year']== selected_year]\n",
    "\n",
    "\n",
    "    traces = []\n",
    "    for continent_name in filtered_df['continent'].unique():\n",
    "        df_by_continent = filtered_df[filtered_df['continent']==continent_name]\n",
    "        traces.append(go.Scatter(x=df_by_continent['gdpPercap'],\n",
    "                                 y=df_by_continent['life_expectancy'],\n",
    "                                 mode='markers',\n",
    "                                 name=continent_name\n",
    "                                 ))\n",
    "        \n",
    "    \n",
    "    return pyo.plot(go.Figure(data=traces))  "
   ]
  },
  {
   "cell_type": "code",
   "execution_count": 15,
   "metadata": {},
   "outputs": [
    {
     "data": {
      "text/plain": [
       "'temp-plot.html'"
      ]
     },
     "execution_count": 15,
     "metadata": {},
     "output_type": "execute_result"
    }
   ],
   "source": [
    "update_figure('1982')"
   ]
  },
  {
   "cell_type": "code",
   "execution_count": null,
   "metadata": {},
   "outputs": [],
   "source": []
  }
 ],
 "metadata": {
  "kernelspec": {
   "display_name": "base",
   "language": "python",
   "name": "python3"
  },
  "language_info": {
   "codemirror_mode": {
    "name": "ipython",
    "version": 3
   },
   "file_extension": ".py",
   "mimetype": "text/x-python",
   "name": "python",
   "nbconvert_exporter": "python",
   "pygments_lexer": "ipython3",
   "version": "3.8.16"
  },
  "orig_nbformat": 4
 },
 "nbformat": 4,
 "nbformat_minor": 2
}
